{
 "cells": [
  {
   "cell_type": "markdown",
   "metadata": {},
   "source": [
    "## Основы программирования в Python\n",
    "\n",
    "*Алла Тамбовцева и Светлана Жучкова, НИУ ВШЭ*\n",
    "\n",
    "## Семинар 3"
   ]
  },
  {
   "cell_type": "markdown",
   "metadata": {},
   "source": [
    "### Задача 1\n",
    "\n",
    "Напишите программу, которая запрашивает у пользователя его фамилию, имя, отчество, введенные в одну строчку через пробел, и выводит на экран сообщения:\n",
    "\n",
    "    Ваша фамилия: фамилия\n",
    "    Ваше имя: имя\n",
    "    Ваше отчество: отчество\n",
    "\n",
    "**Пример:**\n",
    "\n",
    "*Входные данные:*\n",
    "\n",
    "    Введите Ваши ФИО: Достоевский Федор Михайлович\n",
    "\n",
    "*Выходные данные:*\n",
    "\n",
    "    Ваша фамилия: Достоевский\n",
    "    Ваше имя: Федор\n",
    "    Ваше отчество: Михайлович"
   ]
  },
  {
   "cell_type": "code",
   "execution_count": 2,
   "metadata": {},
   "outputs": [
    {
     "name": "stdout",
     "output_type": "stream",
     "text": [
      "ВВведите Ваши ФИО: Михал Палыч Чехов\n",
      "Ваше имя Михал\n",
      "Ваше фамилия Палыч\n",
      "Ваше Отчество Чехов\n"
     ]
    }
   ],
   "source": [
    "imya = input('Ввведите Ваши ФИО: ').split() \n",
    "print('Ваше имя:', imya[0])\n",
    "print('Ваше фамилия:', imya[1])\n",
    "print('Ваше Отчество:', imya[2])"
   ]
  },
  {
   "cell_type": "markdown",
   "metadata": {},
   "source": [
    "### Задача 2\n",
    "\n",
    "Напишите программу, которая берет строку \"1; 2; 3; 100; 6; 4; 1\" и возвращает:\n",
    "\n",
    "* список из целых чисел (этих же)\n",
    "* список из чисел с плавающей точкой (этих же)\n",
    "* список из остатков от деления этих чисел на 2\n",
    "* список только из четных чисел\n",
    "\n",
    "Попробуйте решить все пункты через list comprehension."
   ]
  },
  {
   "cell_type": "code",
   "execution_count": 13,
   "metadata": {},
   "outputs": [
    {
     "data": {
      "text/plain": [
       "['1', '2', '3', '100', '6', '4', '1']"
      ]
     },
     "execution_count": 13,
     "metadata": {},
     "output_type": "execute_result"
    }
   ],
   "source": [
    "stroka = \"1; 2; 3; 100; 6; 4; 1\"\n",
    "stroka = stroka.split('; ')\n",
    "stroka"
   ]
  },
  {
   "cell_type": "code",
   "execution_count": 14,
   "metadata": {},
   "outputs": [
    {
     "data": {
      "text/plain": [
       "[1.0, 2.0, 3.0, 100.0, 6.0, 4.0, 1.0]"
      ]
     },
     "execution_count": 14,
     "metadata": {},
     "output_type": "execute_result"
    }
   ],
   "source": [
    "stroka = \"1; 2; 3; 100; 6; 4; 1\"\n",
    "stroka = stroka.split('; ')\n",
    "[float(x) for x in stroka if int(x)]"
   ]
  },
  {
   "cell_type": "code",
   "execution_count": 10,
   "metadata": {},
   "outputs": [
    {
     "data": {
      "text/plain": [
       "[0.5, 1.0, 1.5, 50.0, 3.0, 2.0, 0.5]"
      ]
     },
     "execution_count": 10,
     "metadata": {},
     "output_type": "execute_result"
    }
   ],
   "source": [
    "stroka = \"1; 2; 3; 100; 6; 4; 1\"\n",
    "stroka = stroka.split('; ')\n",
    "[int(x)/2 for x in stroka if int(x)]"
   ]
  },
  {
   "cell_type": "code",
   "execution_count": 11,
   "metadata": {},
   "outputs": [
    {
     "data": {
      "text/plain": [
       "[2, 100, 6, 4]"
      ]
     },
     "execution_count": 11,
     "metadata": {},
     "output_type": "execute_result"
    }
   ],
   "source": [
    "stroka = \"1; 2; 3; 100; 6; 4; 1\"\n",
    "stroka = stroka.split('; ')\n",
    "[int(x) for x in stroka if int(x) % 2==0]"
   ]
  },
  {
   "cell_type": "markdown",
   "metadata": {},
   "source": [
    "### Задача 3\n",
    "\n",
    "Напишите программу, которая запрашивает у пользователя номер мобильного телефона, введенный через дефис, а возвращает номер, записанный без дефисов и пробелов. **Решите задачу двумя способами.**\n",
    "\n",
    "*Входные данные:*\n",
    "\n",
    "    8-900-123-45-67\n",
    "\n",
    "*Выходные данные:*\n",
    "\n",
    "    89001234567"
   ]
  },
  {
   "cell_type": "code",
   "execution_count": 17,
   "metadata": {},
   "outputs": [
    {
     "name": "stdout",
     "output_type": "stream",
     "text": [
      "Ввведите номер через дефис: 8-800\n"
     ]
    },
    {
     "data": {
      "text/plain": [
       "'8800'"
      ]
     },
     "execution_count": 17,
     "metadata": {},
     "output_type": "execute_result"
    }
   ],
   "source": [
    "nomer = input('Ввведите номер через дефис: ').replace('-','')\n",
    "nomer"
   ]
  },
  {
   "cell_type": "code",
   "execution_count": 21,
   "metadata": {},
   "outputs": [
    {
     "name": "stdout",
     "output_type": "stream",
     "text": [
      "Ввведите номер через дефис: 8-800\n"
     ]
    },
    {
     "data": {
      "text/plain": [
       "'8800'"
      ]
     },
     "execution_count": 21,
     "metadata": {},
     "output_type": "execute_result"
    }
   ],
   "source": [
    "nomer = input('Ввведите номер через дефис: ')\n",
    "clear_text = ''\n",
    "for elem in nomer:\n",
    "     nomer = nomer.replace('-','')\n",
    "\n",
    "nomer"
   ]
  },
  {
   "cell_type": "markdown",
   "metadata": {},
   "source": [
    "### Задача 4\n",
    "\n",
    "Напишите программу, которая принимает на вход список `income`, в котором хранятся значения доходов домохозяйств за месяц, а возвращает новый список `log_income` ‒ список логарифмированных значений доходов."
   ]
  },
  {
   "cell_type": "code",
   "execution_count": 42,
   "metadata": {},
   "outputs": [
    {
     "ename": "TypeError",
     "evalue": "'builtin_function_or_method' object is not subscriptable",
     "output_type": "error",
     "traceback": [
      "\u001b[1;31m---------------------------------------------------------------------------\u001b[0m",
      "\u001b[1;31mTypeError\u001b[0m                                 Traceback (most recent call last)",
      "\u001b[1;32m<ipython-input-42-4df1afbec140>\u001b[0m in \u001b[0;36m<module>\u001b[1;34m\u001b[0m\n\u001b[0;32m      4\u001b[0m \u001b[1;32mfor\u001b[0m \u001b[0mi\u001b[0m \u001b[1;32min\u001b[0m \u001b[0mincome\u001b[0m\u001b[1;33m:\u001b[0m\u001b[1;33m\u001b[0m\u001b[1;33m\u001b[0m\u001b[0m\n\u001b[0;32m      5\u001b[0m     \u001b[1;32mif\u001b[0m \u001b[0mint\u001b[0m\u001b[1;33m(\u001b[0m\u001b[0mi\u001b[0m\u001b[1;33m)\u001b[0m\u001b[1;33m:\u001b[0m\u001b[1;33m\u001b[0m\u001b[1;33m\u001b[0m\u001b[0m\n\u001b[1;32m----> 6\u001b[1;33m         \u001b[0mlog_income\u001b[0m \u001b[1;33m=\u001b[0m \u001b[0mlog\u001b[0m\u001b[1;33m[\u001b[0m\u001b[0mint\u001b[0m\u001b[1;33m(\u001b[0m\u001b[0mi\u001b[0m\u001b[1;33m)\u001b[0m\u001b[1;33m]\u001b[0m\u001b[1;33m\u001b[0m\u001b[1;33m\u001b[0m\u001b[0m\n\u001b[0m\u001b[0;32m      7\u001b[0m \u001b[1;33m\u001b[0m\u001b[0m\n\u001b[0;32m      8\u001b[0m \u001b[0mlog_income\u001b[0m\u001b[1;33m\u001b[0m\u001b[1;33m\u001b[0m\u001b[0m\n",
      "\u001b[1;31mTypeError\u001b[0m: 'builtin_function_or_method' object is not subscriptable"
     ]
    }
   ],
   "source": [
    "from math import log\n",
    "income = [400, 500, 600]\n",
    "\n",
    "for i in income:\n",
    "    if int(i):\n",
    "        log_income = log[i]\n",
    "\n",
    "log_income"
   ]
  },
  {
   "cell_type": "code",
   "execution_count": 50,
   "metadata": {},
   "outputs": [
    {
     "name": "stdout",
     "output_type": "stream",
     "text": [
      "доходы домохозяйств через пробел100 400 400 50\n"
     ]
    },
    {
     "data": {
      "text/plain": [
       "[4.605170185988092, 5.991464547107982, 5.991464547107982, 3.912023005428146]"
      ]
     },
     "execution_count": 50,
     "metadata": {},
     "output_type": "execute_result"
    }
   ],
   "source": [
    "from math import log\n",
    "income = input('доходы домохозяйств через пробел').split()\n",
    "\n",
    "log_income = [log(int(x)) for x in income if int(x)]\n",
    "log_income"
   ]
  },
  {
   "cell_type": "markdown",
   "metadata": {},
   "source": [
    "### Задача 5\n",
    "\n",
    "Напишите программу, которая принимает на вход список слов такого вида:\n",
    "\n",
    "    words = [\"Speak \",\"to\", \"me \", \"of\", \"Florence\" ,\"And \", \"of\", \"the\", \"Renaissance\"]\n",
    "\n",
    "а возвращает строку\n",
    "\n",
    "    \"speak to me of florence and of the renaissance\"\n",
    "\n",
    "Другими словами, программа убирает пробелы в словах, приводит все слова к нижнему регистру и соединяет их в строку.\n",
    "\n",
    "**Подсказка:** за удаление пробелов с начала и конца строки отвечает метод `strip()`."
   ]
  },
  {
   "cell_type": "code",
   "execution_count": 40,
   "metadata": {},
   "outputs": [
    {
     "data": {
      "text/plain": [
       "'Speak to me of Florence And of the Renaissance'"
      ]
     },
     "execution_count": 40,
     "metadata": {},
     "output_type": "execute_result"
    }
   ],
   "source": [
    "words = [\"Speak \",\"to\", \"me \", \"of\", \"Florence\" ,\"And \", \"of\", \"the\", \"Renaissance\"]\n",
    "words = ' '.join(words)\n",
    "while '  ' in words:\n",
    "    words = words.replace('  ',' ')\n",
    "    words = words.strip()\n",
    "words"
   ]
  },
  {
   "cell_type": "markdown",
   "metadata": {},
   "source": [
    "### Задача 6 (положительная)\n",
    "\n",
    "Напишите программу, которая просит пользователя ввести положительное число, и если пользователь вводит положительное число, выводит на экран сообщение *\"Молодец!\"*, если нет ‒ *\"Это не положительное число. Введи другое.\"*. Программа спрашивает у пользователя число **до тех пор, пока он не введёт положительное**.\n",
    "\n",
    "Считайте, что пользователь в любом случае вводит числа, а не какой-то текст."
   ]
  },
  {
   "cell_type": "code",
   "execution_count": 86,
   "metadata": {},
   "outputs": [
    {
     "name": "stdout",
     "output_type": "stream",
     "text": [
      "Ввведите положительное число: -5\n",
      "Это не положительное число. Введи другое\n",
      "Ввведите положительное число: -6\n",
      "Это не положительное число. Введи другое\n",
      "Ввведите положительное число: -4\n",
      "Это не положительное число. Введи другое\n",
      "Ввведите положительное число: -7\n",
      "Это не положительное число. Введи другое\n",
      "Ввведите положительное число: 8\n",
      "Молодец!\n"
     ]
    }
   ],
   "source": [
    "number = int(input('Ввведите положительное число: '))\n",
    "while number < 0:\n",
    "    print('Это не положительное число. Введи другое')\n",
    "    number = int(input('Ввведите положительное число: '))\n",
    "print('Молодец!')"
   ]
  },
  {
   "cell_type": "code",
   "execution_count": 3,
   "metadata": {},
   "outputs": [
    {
     "name": "stdout",
     "output_type": "stream",
     "text": [
      "Ввведите положительное число: 0\n",
      "Это не положительное число. Введи другое\n"
     ]
    }
   ],
   "source": [
    "number = input('Ввведите положительное число: ')\n",
    "for elem in number:\n",
    "    if int(elem) <= 0:\n",
    "        print('Это не положительное число. Введи другое')\n",
    "        continue\n",
    "    if int(elem) > 0:\n",
    "        print('Молодец!')"
   ]
  },
  {
   "cell_type": "markdown",
   "metadata": {},
   "source": [
    "### Задача 7 (конфиденциальная)\n",
    "\n",
    "Напишите программу, которая запрашивает у пользователя пароль (придумайте его сами), и далее:\n",
    "\n",
    "- если пароль верный, выводит на экран сообщение *\"Login success\"*.\n",
    "- если пароль неверный, выводит на экран сообщение *\"Incorrect password, try again!\"* **до тех пор, пока пользователь не введет верный пароль**."
   ]
  },
  {
   "cell_type": "code",
   "execution_count": 83,
   "metadata": {},
   "outputs": [
    {
     "name": "stdout",
     "output_type": "stream",
     "text": [
      "Введите пароль asap1337\n",
      "Incorrect password, try again!\n"
     ]
    }
   ],
   "source": [
    "password = input('Введите пароль ')\n",
    "\n",
    "for elem in password:\n",
    "    if str(elem) == 'asap1337':\n",
    "        print('Login success')\n",
    "    else:\n",
    "        print('Incorrect password, try again!')\n",
    "    break"
   ]
  },
  {
   "cell_type": "code",
   "execution_count": 104,
   "metadata": {},
   "outputs": [
    {
     "name": "stdout",
     "output_type": "stream",
     "text": [
      "Введите пароль rkmrkn\n",
      "Incorrect password, try again!\n",
      "Введите пароль asap1337\n",
      "Login success\n"
     ]
    }
   ],
   "source": [
    "password = input('Введите пароль ')\n",
    "\n",
    "while password != 'asap1337':\n",
    "    print('Incorrect password, try again!')\n",
    "    password = input('Введите пароль ')\n",
    "print('Login success')"
   ]
  },
  {
   "cell_type": "markdown",
   "metadata": {},
   "source": [
    "### Задача 8 (питонья)\n",
    "\n",
    "У питона есть набор любимых чисел.\n",
    "\n",
    "    favorites = [3, 7, 11, 23, 18, 48, 81]\n",
    "\n",
    "Напишите программу, которая просит пользователя ввести целое число, и если оно нравится питону, на экран будет выводиться сообщение: *\"Мое любимое число!\"*, если нет ‒ *\"Эх, ну почему? Попробуй другое\"*. У пользователя есть ровно три попытки, чтобы угадать хотя бы одно любимое число питона, если за три попытки этого не происходит, программа выводит *\"Эх, неудача!\"* и завершает работу."
   ]
  },
  {
   "cell_type": "code",
   "execution_count": 7,
   "metadata": {},
   "outputs": [
    {
     "name": "stdout",
     "output_type": "stream",
     "text": [
      "Введите целое число5\n",
      "х, ну почему? Попробуй другое\n",
      "Введите целое число6\n",
      "х, ну почему? Попробуй другое\n",
      "Введите целое число8\n",
      "х, ну почему? Попробуй другое\n",
      "Эх, неудача!\n"
     ]
    }
   ],
   "source": [
    "favorites = [3, 7, 11, 23, 18, 48, 81]\n",
    "i = 0\n",
    "\n",
    "number = input('Введите целое число')\n",
    "while int(number) not in favorites:\n",
    "    print('х, ну почему? Попробуй другое')\n",
    "    i = i + 1\n",
    "    if i > 2:\n",
    "        print('Эх, неудача!')\n",
    "        break\n",
    "    number = input('Введите целое число')\n",
    "else:\n",
    "    print('Мое любимое число!')\n",
    "\n"
   ]
  },
  {
   "cell_type": "code",
   "execution_count": 5,
   "metadata": {},
   "outputs": [
    {
     "name": "stdout",
     "output_type": "stream",
     "text": [
      "Введите целое число 6\n",
      "х, ну почему? Попробуй другое\n",
      "Введите целое число5\n"
     ]
    }
   ],
   "source": [
    "favorites = [3, 7, 11, 23, 18, 48, 81]\n",
    "\n",
    "number = input('Введите целое число ')\n",
    "\n",
    "if int(number) not in favorites:\n",
    "    print('х, ну почему? Попробуй другое')\n",
    "    number = input('Введите целое число')\n",
    "elif int(number) in favorites:\n",
    "    print('Мое любимое число!')\n",
    "else:\n",
    "    print('Эх, неудача!')"
   ]
  },
  {
   "cell_type": "markdown",
   "metadata": {},
   "source": [
    "### Задача 9 (жизненная и очень сложная)\n",
    "\n",
    "Как известно, студент Вышки имеет право два раза пересдавать курсы: на пересдаче и комиссии. Напишите программу, которая запрашивает у студента последовательно оценки за какой-то курс: \n",
    "\n",
    "1. исходную итоговую, \n",
    "2. оценку за курс по итогам пересдачи, \n",
    "3. оценку за курс по итогам комиссии. \n",
    "\n",
    "Если какая-то из оценок положительная (выше 3), программа не запрашивает следующую оценку, а вместо этого выводит фразу: *\"Ура! Ты не вылетел\"*. Если все три оценки неудовлетворительные, программа перестаёт спрашивать оценки и выводит фразу: *\"Может, оформим ИУП?\"*."
   ]
  },
  {
   "cell_type": "code",
   "execution_count": 141,
   "metadata": {},
   "outputs": [
    {
     "name": "stdout",
     "output_type": "stream",
     "text": [
      "Введите исходную итоговую оценку2\n",
      "Введите оценку за курс по итогам пересдачи2\n",
      "Оценку за курс по итогам комиссии2\n",
      "Может, оформим ИУП?\n"
     ]
    }
   ],
   "source": [
    "Mark0 = input('Введите исходную итоговую оценку ')\n",
    "\n",
    "if int(Mark0) < 3:\n",
    "    Mark1 = input('Введите оценку за курс по итогам пересдачи ')\n",
    "    if int(Mark1) < 3:\n",
    "        Mark2 = input('Оценку за курс по итогам комиссии ')\n",
    "        if int(Mark2) < 3:\n",
    "            print('Может, оформим ИУП?')\n",
    "elif int(Mark0) > 3:\n",
    "        print('Ура! Ты не вылетел.')"
   ]
  },
  {
   "cell_type": "code",
   "execution_count": null,
   "metadata": {},
   "outputs": [],
   "source": [
    "or int(Mark1) < 3:\n",
    "    Mark2 = input('Оценку за курс по итогам комиссии')\n",
    "    else:\n",
    "        print('Ура! Ты не вылетел.')\n",
    "or int(Mark2) < 3:\n",
    "    print('Ура! Ты не вылетел.')\n",
    "    else:\n",
    "        print('Ура! Ты не вылетел.')\n",
    "else:\n",
    "     print('Может, оформим ИУП?')"
   ]
  }
 ],
 "metadata": {
  "kernelspec": {
   "display_name": "Python 3",
   "language": "python",
   "name": "python3"
  },
  "language_info": {
   "codemirror_mode": {
    "name": "ipython",
    "version": 3
   },
   "file_extension": ".py",
   "mimetype": "text/x-python",
   "name": "python",
   "nbconvert_exporter": "python",
   "pygments_lexer": "ipython3",
   "version": "3.8.3"
  }
 },
 "nbformat": 4,
 "nbformat_minor": 2
}
