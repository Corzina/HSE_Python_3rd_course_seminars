{
 "cells": [
  {
   "cell_type": "code",
   "execution_count": 2,
   "metadata": {},
   "outputs": [],
   "source": [
    "x = 5"
   ]
  },
  {
   "cell_type": "code",
   "execution_count": 3,
   "metadata": {},
   "outputs": [
    {
     "data": {
      "text/plain": [
       "1"
      ]
     },
     "execution_count": 3,
     "metadata": {},
     "output_type": "execute_result"
    }
   ],
   "source": [
    "3  2"
   ]
  },
  {
   "cell_type": "code",
   "execution_count": 5,
   "metadata": {},
   "outputs": [
    {
     "data": {
      "text/plain": [
       "float"
      ]
     },
     "execution_count": 5,
     "metadata": {},
     "output_type": "execute_result"
    }
   ],
   "source": [
    "bool # True, False\n",
    "str # '5.0' перенесение в формат строки\n",
    "int # 8\n",
    "float # 4.0"
   ]
  },
  {
   "cell_type": "code",
   "execution_count": 6,
   "metadata": {},
   "outputs": [
    {
     "ename": "SyntaxError",
     "evalue": "invalid syntax (<ipython-input-6-739cf97c6c51>, line 1)",
     "output_type": "error",
     "traceback": [
      "\u001b[1;36m  File \u001b[1;32m\"<ipython-input-6-739cf97c6c51>\"\u001b[1;36m, line \u001b[1;32m1\u001b[0m\n\u001b[1;33m    +\u001b[0m\n\u001b[1;37m     ^\u001b[0m\n\u001b[1;31mSyntaxError\u001b[0m\u001b[1;31m:\u001b[0m invalid syntax\n"
     ]
    }
   ],
   "source": [
    "+\n",
    "-\n",
    "*\n",
    "/\n",
    "// # целочисленное деление\n",
    "** # возведение в степень\n",
    "% # остаток от дееления"
   ]
  },
  {
   "cell_type": "code",
   "execution_count": 7,
   "metadata": {},
   "outputs": [
    {
     "data": {
      "text/plain": [
       "'www'"
      ]
     },
     "execution_count": 7,
     "metadata": {},
     "output_type": "execute_result"
    }
   ],
   "source": [
    "'w' * 3"
   ]
  },
  {
   "cell_type": "code",
   "execution_count": 8,
   "metadata": {},
   "outputs": [
    {
     "data": {
      "text/plain": [
       "'wwyy'"
      ]
     },
     "execution_count": 8,
     "metadata": {},
     "output_type": "execute_result"
    }
   ],
   "source": [
    "'ww' + 'yy' # конкатенация"
   ]
  },
  {
   "cell_type": "code",
   "execution_count": 10,
   "metadata": {},
   "outputs": [
    {
     "data": {
      "text/plain": [
       "'Ёлки 2'"
      ]
     },
     "execution_count": 10,
     "metadata": {},
     "output_type": "execute_result"
    }
   ],
   "source": [
    "num = 2\n",
    "'Ёлки ' + str(num)"
   ]
  },
  {
   "cell_type": "code",
   "execution_count": 14,
   "metadata": {},
   "outputs": [
    {
     "data": {
      "text/plain": [
       "2"
      ]
     },
     "execution_count": 14,
     "metadata": {},
     "output_type": "execute_result"
    }
   ],
   "source": [
    "int(2.0)"
   ]
  },
  {
   "cell_type": "code",
   "execution_count": 18,
   "metadata": {},
   "outputs": [
    {
     "data": {
      "text/plain": [
       "'5.0'"
      ]
     },
     "execution_count": 18,
     "metadata": {},
     "output_type": "execute_result"
    }
   ],
   "source": [
    "str(float(5))"
   ]
  },
  {
   "cell_type": "code",
   "execution_count": 20,
   "metadata": {},
   "outputs": [
    {
     "ename": "SyntaxError",
     "evalue": "invalid syntax (<ipython-input-20-ecac15b127be>, line 1)",
     "output_type": "error",
     "traceback": [
      "\u001b[1;36m  File \u001b[1;32m\"<ipython-input-20-ecac15b127be>\"\u001b[1;36m, line \u001b[1;32m1\u001b[0m\n\u001b[1;33m    >\u001b[0m\n\u001b[1;37m    ^\u001b[0m\n\u001b[1;31mSyntaxError\u001b[0m\u001b[1;31m:\u001b[0m invalid syntax\n"
     ]
    }
   ],
   "source": [
    ">\n",
    "<\n",
    ">=\n",
    "<=\n",
    "== # равно\n",
    "!= # не равно"
   ]
  },
  {
   "cell_type": "code",
   "execution_count": 22,
   "metadata": {},
   "outputs": [
    {
     "data": {
      "text/plain": [
       "True"
      ]
     },
     "execution_count": 22,
     "metadata": {},
     "output_type": "execute_result"
    }
   ],
   "source": [
    "2 == 2.0"
   ]
  },
  {
   "cell_type": "code",
   "execution_count": 24,
   "metadata": {},
   "outputs": [
    {
     "data": {
      "text/plain": [
       "False"
      ]
     },
     "execution_count": 24,
     "metadata": {},
     "output_type": "execute_result"
    }
   ],
   "source": [
    "2 == '2'"
   ]
  },
  {
   "cell_type": "code",
   "execution_count": 25,
   "metadata": {},
   "outputs": [
    {
     "data": {
      "text/plain": [
       "False"
      ]
     },
     "execution_count": 25,
     "metadata": {},
     "output_type": "execute_result"
    }
   ],
   "source": [
    "'A' == 'a'"
   ]
  },
  {
   "cell_type": "code",
   "execution_count": 26,
   "metadata": {},
   "outputs": [
    {
     "ename": "SyntaxError",
     "evalue": "cannot assign to operator (<ipython-input-26-deed37a742d4>, line 1)",
     "output_type": "error",
     "traceback": [
      "\u001b[1;36m  File \u001b[1;32m\"<ipython-input-26-deed37a742d4>\"\u001b[1;36m, line \u001b[1;32m1\u001b[0m\n\u001b[1;33m    5 < 9 and 9 = 9.0\u001b[0m\n\u001b[1;37m    ^\u001b[0m\n\u001b[1;31mSyntaxError\u001b[0m\u001b[1;31m:\u001b[0m cannot assign to operator\n"
     ]
    }
   ],
   "source": [
    "5 < 9 and 9 = 9.0"
   ]
  },
  {
   "cell_type": "code",
   "execution_count": 1,
   "metadata": {},
   "outputs": [
    {
     "ename": "SyntaxError",
     "evalue": "invalid syntax (<ipython-input-1-ddccf9dff290>, line 1)",
     "output_type": "error",
     "traceback": [
      "\u001b[1;36m  File \u001b[1;32m\"<ipython-input-1-ddccf9dff290>\"\u001b[1;36m, line \u001b[1;32m1\u001b[0m\n\u001b[1;33m    and\u001b[0m\n\u001b[1;37m    ^\u001b[0m\n\u001b[1;31mSyntaxError\u001b[0m\u001b[1;31m:\u001b[0m invalid syntax\n"
     ]
    }
   ],
   "source": [
    "and\n",
    "T and T = T\n",
    "T and F = F\n",
    "F and T = T\n",
    "F and F = F"
   ]
  },
  {
   "cell_type": "code",
   "execution_count": 31,
   "metadata": {},
   "outputs": [
    {
     "ename": "SyntaxError",
     "evalue": "invalid syntax (<ipython-input-31-74d3926b7152>, line 1)",
     "output_type": "error",
     "traceback": [
      "\u001b[1;36m  File \u001b[1;32m\"<ipython-input-31-74d3926b7152>\"\u001b[1;36m, line \u001b[1;32m1\u001b[0m\n\u001b[1;33m    and\u001b[0m\n\u001b[1;37m    ^\u001b[0m\n\u001b[1;31mSyntaxError\u001b[0m\u001b[1;31m:\u001b[0m invalid syntax\n"
     ]
    }
   ],
   "source": [
    "or\n",
    "T or T = \n",
    "T or F = \n",
    "F or T = \n",
    "F or F = "
   ]
  },
  {
   "cell_type": "code",
   "execution_count": 32,
   "metadata": {},
   "outputs": [
    {
     "data": {
      "text/plain": [
       "2.0"
      ]
     },
     "execution_count": 32,
     "metadata": {},
     "output_type": "execute_result"
    }
   ],
   "source": [
    "4 ** 0.5"
   ]
  },
  {
   "cell_type": "code",
   "execution_count": 33,
   "metadata": {},
   "outputs": [],
   "source": [
    "import math # импортируем пакеты"
   ]
  },
  {
   "cell_type": "code",
   "execution_count": 36,
   "metadata": {},
   "outputs": [
    {
     "data": {
      "text/plain": [
       "2.0"
      ]
     },
     "execution_count": 36,
     "metadata": {},
     "output_type": "execute_result"
    }
   ],
   "source": [
    "math.sqrt(4)"
   ]
  },
  {
   "cell_type": "code",
   "execution_count": 37,
   "metadata": {},
   "outputs": [],
   "source": [
    "from math import sqrt, exp # импорт отдельных ф-ций"
   ]
  },
  {
   "cell_type": "code",
   "execution_count": 38,
   "metadata": {},
   "outputs": [
    {
     "data": {
      "text/plain": [
       "2.0"
      ]
     },
     "execution_count": 38,
     "metadata": {},
     "output_type": "execute_result"
    }
   ],
   "source": [
    "sqrt(4)"
   ]
  },
  {
   "cell_type": "code",
   "execution_count": 2,
   "metadata": {},
   "outputs": [],
   "source": [
    "import math as m # импортируем под всевдонимом"
   ]
  },
  {
   "cell_type": "code",
   "execution_count": 40,
   "metadata": {},
   "outputs": [
    {
     "data": {
      "text/plain": [
       "2.0"
      ]
     },
     "execution_count": 40,
     "metadata": {},
     "output_type": "execute_result"
    }
   ],
   "source": [
    "m.sqrt(4)"
   ]
  },
  {
   "cell_type": "code",
   "execution_count": 3,
   "metadata": {},
   "outputs": [
    {
     "data": {
      "text/plain": [
       "0.006737946999085469"
      ]
     },
     "execution_count": 3,
     "metadata": {},
     "output_type": "execute_result"
    }
   ],
   "source": [
    "m.e**-5"
   ]
  },
  {
   "cell_type": "code",
   "execution_count": null,
   "metadata": {},
   "outputs": [],
   "source": [
    "round(m.sqrt(789), 2)"
   ]
  },
  {
   "cell_type": "code",
   "execution_count": null,
   "metadata": {},
   "outputs": [],
   "source": [
    "type('8768775')"
   ]
  },
  {
   "cell_type": "code",
   "execution_count": 138,
   "metadata": {},
   "outputs": [
    {
     "name": "stdout",
     "output_type": "stream",
     "text": [
      "5\n",
      "5\n",
      "5\n",
      "4 4 4\n"
     ]
    }
   ],
   "source": [
    "x = 5\n",
    "y = 4\n",
    "print(x, x, x, sep='\\n')\n",
    "print(y, 4, y)"
   ]
  },
  {
   "cell_type": "code",
   "execution_count": null,
   "metadata": {},
   "outputs": [],
   "source": [
    "x = input('введите целое число ')"
   ]
  },
  {
   "cell_type": "code",
   "execution_count": null,
   "metadata": {},
   "outputs": [],
   "source": [
    "print(x)"
   ]
  },
  {
   "cell_type": "code",
   "execution_count": 58,
   "metadata": {},
   "outputs": [
    {
     "name": "stdout",
     "output_type": "stream",
     "text": [
      "оценка за ДЗ 5\n",
      "оценка за КР 6\n",
      "оценка за проект 7\n",
      "оценка за онлайн 8\n",
      "оценка за тест 9\n"
     ]
    }
   ],
   "source": [
    "x = int(input('оценка за ДЗ '))\n",
    "y = int(input('оценка за КР '))\n",
    "z = int(input('оценка за проект '))\n",
    "p = int(input('оценка за онлайн '))\n",
    "q = int(input('оценка за тест '))\n",
    "\n",
    "grade = 0.2 * x + 0.1 * y + 0.4 * z + 0.15 * p + 0.15 * q\n",
    "\n"
   ]
  },
  {
   "cell_type": "code",
   "execution_count": 59,
   "metadata": {},
   "outputs": [
    {
     "name": "stdout",
     "output_type": "stream",
     "text": [
      "Ваша оценка  round(grade)\n"
     ]
    }
   ],
   "source": [
    "print('Ваша оценка ','round(grade)')"
   ]
  },
  {
   "cell_type": "code",
   "execution_count": 60,
   "metadata": {},
   "outputs": [
    {
     "data": {
      "text/plain": [
       "'Ваша оценка - 6.95, Если округлить - 7'"
      ]
     },
     "execution_count": 60,
     "metadata": {},
     "output_type": "execute_result"
    }
   ],
   "source": [
    "'Ваша оценка - {}, Если округлить - {}'. format(grade, round(grade))"
   ]
  },
  {
   "cell_type": "code",
   "execution_count": 61,
   "metadata": {},
   "outputs": [
    {
     "data": {
      "text/plain": [
       "'Ваша оценка - 6.95, eсли округлить 7'"
      ]
     },
     "execution_count": 61,
     "metadata": {},
     "output_type": "execute_result"
    }
   ],
   "source": [
    "f'Ваша оценка - {grade}, eсли округлить {round(grade)}'"
   ]
  },
  {
   "cell_type": "code",
   "execution_count": null,
   "metadata": {},
   "outputs": [],
   "source": [
    "# seminar 1"
   ]
  },
  {
   "cell_type": "code",
   "execution_count": 67,
   "metadata": {},
   "outputs": [
    {
     "data": {
      "text/plain": [
       "3.2188758248682006"
      ]
     },
     "execution_count": 67,
     "metadata": {},
     "output_type": "execute_result"
    }
   ],
   "source": [
    "# 0 задание\n",
    "m.log(25)"
   ]
  },
  {
   "cell_type": "code",
   "execution_count": 68,
   "metadata": {},
   "outputs": [
    {
     "data": {
      "text/plain": [
       "3.0"
      ]
     },
     "execution_count": 68,
     "metadata": {},
     "output_type": "execute_result"
    }
   ],
   "source": [
    "m.log(m.exp(3))"
   ]
  },
  {
   "cell_type": "code",
   "execution_count": 69,
   "metadata": {},
   "outputs": [
    {
     "data": {
      "text/plain": [
       "2.9999999999999996"
      ]
     },
     "execution_count": 69,
     "metadata": {},
     "output_type": "execute_result"
    }
   ],
   "source": [
    "m.log(1000, 10)"
   ]
  },
  {
   "cell_type": "code",
   "execution_count": 70,
   "metadata": {},
   "outputs": [
    {
     "data": {
      "text/plain": [
       "31.006276680299816"
      ]
     },
     "execution_count": 70,
     "metadata": {},
     "output_type": "execute_result"
    }
   ],
   "source": [
    "m.pow(m.pi, 3)"
   ]
  },
  {
   "cell_type": "code",
   "execution_count": 72,
   "metadata": {},
   "outputs": [
    {
     "data": {
      "text/plain": [
       "228886641.0"
      ]
     },
     "execution_count": 72,
     "metadata": {},
     "output_type": "execute_result"
    }
   ],
   "source": [
    "m.pow(123, 4)"
   ]
  },
  {
   "cell_type": "code",
   "execution_count": 73,
   "metadata": {},
   "outputs": [
    {
     "data": {
      "text/plain": [
       "21.42428528562855"
      ]
     },
     "execution_count": 73,
     "metadata": {},
     "output_type": "execute_result"
    }
   ],
   "source": [
    "m.sqrt(459)"
   ]
  },
  {
   "cell_type": "code",
   "execution_count": 116,
   "metadata": {
    "scrolled": true
   },
   "outputs": [
    {
     "name": "stdout",
     "output_type": "stream",
     "text": [
      "7\n",
      "5\n"
     ]
    }
   ],
   "source": [
    "# 1 задание\n",
    "a = 5\n",
    "b = 7\n",
    "a = a + b\n",
    "b = a - b \n",
    "a = a - b \n",
    "print(a)\n",
    "print(b)"
   ]
  },
  {
   "cell_type": "code",
   "execution_count": 79,
   "metadata": {},
   "outputs": [
    {
     "data": {
      "text/plain": [
       "4.61"
      ]
     },
     "execution_count": 79,
     "metadata": {},
     "output_type": "execute_result"
    }
   ],
   "source": [
    "# 2 задание\n",
    "gpd = 100\n",
    "round(m.log(gpd), 2)"
   ]
  },
  {
   "cell_type": "code",
   "execution_count": 125,
   "metadata": {},
   "outputs": [
    {
     "data": {
      "text/plain": [
       "70.0"
      ]
     },
     "execution_count": 125,
     "metadata": {},
     "output_type": "execute_result"
    }
   ],
   "source": [
    "# 3 задание\n",
    "fh = 100\n",
    "p = 50\n",
    "freedom = 0.4*fh + 0.6*p\n",
    "freedom"
   ]
  },
  {
   "cell_type": "code",
   "execution_count": 137,
   "metadata": {},
   "outputs": [
    {
     "name": "stdout",
     "output_type": "stream",
     "text": [
      "Имя Фамилия Обама\n"
     ]
    },
    {
     "data": {
      "text/plain": [
       "'Обама, Добро пожаловать'"
      ]
     },
     "execution_count": 137,
     "metadata": {},
     "output_type": "execute_result"
    }
   ],
   "source": [
    "# 4 задание\n",
    "\n",
    "x = input('Имя Фамилия')\n",
    "\n",
    "f'{x}, Добро пожаловать'"
   ]
  },
  {
   "cell_type": "code",
   "execution_count": 157,
   "metadata": {},
   "outputs": [
    {
     "name": "stdout",
     "output_type": "stream",
     "text": [
      "Введите название первого курса ИПУ\n",
      "Введите название второго курса ПТ\n",
      "Введите название третьего курса ОП\n",
      "Рецепт\n",
      "ИПУ: 200 гр. \n",
      " ПТ: 100 гр. \n",
      " ОП: 300 гр. \n",
      "\n",
      "Приправить политической историей. Добавить математические модели по вкусу.\n"
     ]
    }
   ],
   "source": [
    "# 5 задание\n",
    "\n",
    "x = input('Введите название первого курса ')\n",
    "y = input('Введите название второго курса ')\n",
    "z = input('Введите название третьего курса ')\n",
    "\n",
    "print('Рецепт')\n",
    "print(f'{x}: 200 гр. \\n {y}: 100 гр. \\n {z}: 300 гр. \\n')\n",
    "print('Приправить политической историей. Добавить математические модели по вкусу.')\n"
   ]
  },
  {
   "cell_type": "code",
   "execution_count": 158,
   "metadata": {},
   "outputs": [
    {
     "name": "stdout",
     "output_type": "stream",
     "text": [
      "Введите название первого курса ИПУ\n",
      "Введите название второго курса ПТ\n",
      "Введите название третьего курса ОП\n",
      "Вес 1 курса в гр. 2144124\n",
      "Вес 2 курса в гр. 14214\n",
      "Вес 3 курса в гр. 14214\n",
      "Рецепт\n",
      "ИПУ: 2144.124 кг. \n",
      " ПТ: 14.214 кг. \n",
      " ОП: 14.214 кг.\n",
      "Приправить политической историей. Добавить математические модели по вкусу.\n"
     ]
    }
   ],
   "source": [
    "# 6 задание\n",
    "\n",
    "x = input('Введите название первого курса ')\n",
    "y = input('Введите название второго курса ')\n",
    "z = input('Введите название третьего курса ')\n",
    "\n",
    "q = int(input('Вес 1 курса в гр. '))\n",
    "r = int(input('Вес 2 курса в гр. '))\n",
    "p = int(input('Вес 3 курса в гр. '))\n",
    "\n",
    "qq = round(q/1000, 3)\n",
    "rr = round(r/1000, 3)\n",
    "pp = round(p/1000, 3)\n",
    "\n",
    "print('Рецепт')\n",
    "print(f'{x}: {qq} кг. \\n {y}: {rr} кг. \\n {z}: {pp} кг.')\n",
    "print('Приправить политической историей. Добавить математические модели по вкусу.')"
   ]
  },
  {
   "cell_type": "code",
   "execution_count": 26,
   "metadata": {},
   "outputs": [
    {
     "name": "stdout",
     "output_type": "stream",
     "text": [
      "['аметистовый питон Харрисон']\n"
     ]
    }
   ],
   "source": [
    "pythons = {\"королевский питон Рональд\" : \"Уганда\", \n",
    "          \"карликовый питон Антониа\" : \"Ангола\", \n",
    "          \"сетчатый питон Асиф\" : \"Бангладеш\", \n",
    "          \"зеленый питон Оливер\" : \"Австралия\", \n",
    "          \"тиморский питон Николау\" : \"Восточный Тимор\", \n",
    "          \"аметистовый питон Харрисон\" : \"Австралия\", \n",
    "          \"тигровый питон Мэйли\" : \"Китай\",\n",
    "          \"оливковый питон Руби\" : \"Австралия\", \n",
    "          \"белогубый питон Арис\" : \"Индонезия\", \n",
    "          \"эфиопский питон Оника\" : \"Мозамбик\"}\n",
    "piton = {v:k for k, v in pythons.items()}\n",
    "piton[\"Австралия\"] = \"оливковый питон Руби\"\n",
    "piton[\"Австралия\"] = \"аметистовый питон Харрисон\"\n",
    "for k, v in piton.items():\n",
    "    if k == \"Австралия\":\n",
    "        huinya = []\n",
    "        huinya.append(v)\n",
    "        \n",
    "print(huinya)"
   ]
  },
  {
   "cell_type": "code",
   "execution_count": 38,
   "metadata": {},
   "outputs": [
    {
     "name": "stdout",
     "output_type": "stream",
     "text": [
      "зеленый питон Оливер\n",
      "аметистовый питон Харрисон\n",
      "оливковый питон Руби\n"
     ]
    }
   ],
   "source": [
    "pythons = {\"королевский питон Рональд\" : \"Уганда\", \n",
    "          \"карликовый питон Антониа\" : \"Ангола\", \n",
    "          \"сетчатый питон Асиф\" : \"Бангладеш\", \n",
    "          \"зеленый питон Оливер\" : \"Австралия\", \n",
    "          \"тиморский питон Николау\" : \"Восточный Тимор\", \n",
    "          \"аметистовый питон Харрисон\" : \"Австралия\", \n",
    "          \"тигровый питон Мэйли\" : \"Китай\",\n",
    "          \"оливковый питон Руби\" : \"Австралия\", \n",
    "          \"белогубый питон Арис\" : \"Индонезия\", \n",
    "          \"эфиопский питон Оника\" : \"Мозамбик\"}\n",
    "for k, v in pythons.items():\n",
    "    if v == \"Австралия\":\n",
    "        print(k)\n"
   ]
  },
  {
   "cell_type": "code",
   "execution_count": 46,
   "metadata": {},
   "outputs": [
    {
     "name": "stdout",
     "output_type": "stream",
     "text": [
      "Введите ключ: 100\n",
      "Введите значение: cb\n",
      "Запись с таким ключом существует. Введите другой ключ\n"
     ]
    }
   ],
   "source": [
    "cities = {100: 'Москва', 101: 'Санкт-Петербург', 103: 'Екатеринбург', 104: 'Пермь', \n",
    "              107: 'Красноярск', 111 : 'Киров'}\n",
    "keynew = int(input('Введите ключ: '))\n",
    "valuenew = input('Введите значение: ')\n",
    "for k, v in cities.items():\n",
    "    if k == keynew:\n",
    "        print('Запись с таким ключом существует. Введите другой ключ')\n",
    "cities[keynew] = valuenew"
   ]
  },
  {
   "cell_type": "code",
   "execution_count": 43,
   "metadata": {},
   "outputs": [
    {
     "name": "stdout",
     "output_type": "stream",
     "text": [
      "{100: 'Москва', 101: 'Санкт-Петербург', 103: 'Екатеринбург', 104: 'Пермь', 107: 'Красноярск', 111: 'Киров', 228: 'Псков'}\n"
     ]
    }
   ],
   "source": [
    "print(cities)"
   ]
  },
  {
   "cell_type": "code",
   "execution_count": 48,
   "metadata": {},
   "outputs": [
    {
     "name": "stdout",
     "output_type": "stream",
     "text": [
      "Введите имена студентов:  r a w\n",
      "Введите оценки студентов:  1 2 3\n"
     ]
    }
   ],
   "source": [
    "uwu = {}\n",
    "keynew = input('Введите имена студентов:  ').split()\n",
    "valuenew = input('Введите оценки студентов:  ').split()\n",
    "intvaluenew = []\n",
    "for i in valuenew:\n",
    "    intvaluenew.append(int(i))\n",
    "uwu = dict(zip(intvaluenew, valuenew))\n"
   ]
  },
  {
   "cell_type": "code",
   "execution_count": 49,
   "metadata": {},
   "outputs": [
    {
     "name": "stdout",
     "output_type": "stream",
     "text": [
      "{1: '1', 2: '2', 3: '3'}\n"
     ]
    }
   ],
   "source": [
    "print(uwu)"
   ]
  },
  {
   "cell_type": "code",
   "execution_count": 54,
   "metadata": {},
   "outputs": [
    {
     "name": "stdout",
     "output_type": "stream",
     "text": [
      "Введите ключ: 117\n",
      "Введите значение: Омск\n"
     ]
    }
   ],
   "source": [
    "cities = {100: 'Москва', 101: 'Санкт-Петербург', 103: 'Екатеринбург', 104: 'Пермь', \n",
    "              107: 'Красноярск', 111 : 'Киров'}\n",
    "keynew = int(input('Введите ключ: '))\n",
    "valuenew = input('Введите значение: ')\n",
    "for k, v in cities.items():\n",
    "    if k == keynew:\n",
    "        print('Запись с таким ключом существует. Введите другой ключ')\n",
    "cities[keynew] = valuenew\n",
    "cities[101] = 'Санкт-Петербург'"
   ]
  },
  {
   "cell_type": "code",
   "execution_count": 55,
   "metadata": {},
   "outputs": [
    {
     "name": "stdout",
     "output_type": "stream",
     "text": [
      "{100: 'Москва', 101: 'Санкт-Петербург', 103: 'Екатеринбург', 104: 'Пермь', 107: 'Красноярск', 111: 'Киров', 117: 'Омск'}\n"
     ]
    }
   ],
   "source": [
    "print(cities)"
   ]
  },
  {
   "cell_type": "code",
   "execution_count": 62,
   "metadata": {},
   "outputs": [
    {
     "name": "stdout",
     "output_type": "stream",
     "text": [
      "Введите ключ: 100\n",
      "Введите значение: 101\n"
     ]
    }
   ],
   "source": [
    "cities = {100: 'Москва', 101: 'Санкт-Петербург', 103: 'Екатеринбург', 104: 'Пермь', \n",
    "              107: 'Красноярск', 111 : 'Киров'}\n",
    "try:\n",
    "    keynew = int(input('Введите ключ: '))\n",
    "    for i in cities.keys():\n",
    "        if i == keynew:\n",
    "            break\n",
    "except KeyError:\n",
    "    print('Запись с таким ключом существует. Введите другой ключ')\n",
    "valuenew = input('Введите значение: ')"
   ]
  },
  {
   "cell_type": "code",
   "execution_count": 11,
   "metadata": {},
   "outputs": [
    {
     "data": {
      "text/plain": [
       "7.38905609893065"
      ]
     },
     "execution_count": 11,
     "metadata": {},
     "output_type": "execute_result"
    }
   ],
   "source": [
    "m.exp(2)"
   ]
  },
  {
   "cell_type": "code",
   "execution_count": 8,
   "metadata": {},
   "outputs": [
    {
     "ename": "NameError",
     "evalue": "name 'y' is not defined",
     "output_type": "error",
     "traceback": [
      "\u001b[1;31m---------------------------------------------------------------------------\u001b[0m",
      "\u001b[1;31mNameError\u001b[0m                                 Traceback (most recent call last)",
      "\u001b[1;32m<ipython-input-8-71e3dbb23982>\u001b[0m in \u001b[0;36m<module>\u001b[1;34m\u001b[0m\n\u001b[0;32m      5\u001b[0m     \u001b[1;32mreturn\u001b[0m \u001b[0my\u001b[0m\u001b[1;33m\u001b[0m\u001b[1;33m\u001b[0m\u001b[0m\n\u001b[0;32m      6\u001b[0m \u001b[1;33m\u001b[0m\u001b[0m\n\u001b[1;32m----> 7\u001b[1;33m \u001b[0my\u001b[0m\u001b[1;33m\u001b[0m\u001b[1;33m\u001b[0m\u001b[0m\n\u001b[0m",
      "\u001b[1;31mNameError\u001b[0m: name 'y' is not defined"
     ]
    }
   ],
   "source": [
    "import math as m\n",
    "x = 2\n",
    "def my_expo(x):\n",
    "    y = m.exp(x ** x)\n",
    "    return y\n",
    "    \n",
    "y"
   ]
  },
  {
   "cell_type": "code",
   "execution_count": 15,
   "metadata": {},
   "outputs": [
    {
     "data": {
      "text/plain": [
       "[1, 3, 5, 18]"
      ]
     },
     "execution_count": 15,
     "metadata": {},
     "output_type": "execute_result"
    }
   ],
   "source": [
    "x = ['1', '3', '5', '18']\n",
    "y = []\n",
    "for i in x:\n",
    "    y.append(int(i))\n",
    "    \n",
    "y"
   ]
  },
  {
   "cell_type": "code",
   "execution_count": 26,
   "metadata": {},
   "outputs": [
    {
     "data": {
      "text/plain": [
       "7.75"
      ]
     },
     "execution_count": 26,
     "metadata": {},
     "output_type": "execute_result"
    }
   ],
   "source": [
    "d = ({'Элеонора': 8, 'Адам': 7, 'Урсула': 6, 'Альбер': 10})\n",
    "b = list(d.values())\n",
    "a = sum(b)/len(b)\n",
    "a"
   ]
  },
  {
   "cell_type": "code",
   "execution_count": 28,
   "metadata": {},
   "outputs": [
    {
     "data": {
      "text/plain": [
       "{'Python для детей.',\n",
       " 'Змеелов.',\n",
       " 'Кролики и удавы.',\n",
       " 'Маленький принц.',\n",
       " 'Питон для детей.',\n",
       " 'Питоны о Питонах. Автобиография',\n",
       " 'Удавы и питоны. Уход и содержание.',\n",
       " 'Хобби доктора Травена.'}"
      ]
     },
     "execution_count": 28,
     "metadata": {},
     "output_type": "execute_result"
    }
   ],
   "source": [
    "L = ['Хобби доктора Травена.', 'Хобби доктора Травена.', 'Змеелов.', 'Маленький принц.', \n",
    "'Питоны о Питонах. Автобиография', 'Python для детей.', 'Питон для детей.', 'Кролики и удавы.', \n",
    "'Маленький принц.', 'Удавы и питоны. Уход и содержание.', 'Питон для детей.']\n",
    "cortage = set(L)\n",
    "cortage"
   ]
  },
  {
   "cell_type": "code",
   "execution_count": 29,
   "metadata": {},
   "outputs": [
    {
     "data": {
      "text/plain": [
       "['Хобби доктора Травена.',\n",
       " 'Хобби доктора Травена.',\n",
       " 'Маленький принц.',\n",
       " 'Питон для детей.',\n",
       " 'Маленький принц.',\n",
       " 'Питон для детей.']"
      ]
     },
     "execution_count": 29,
     "metadata": {},
     "output_type": "execute_result"
    }
   ],
   "source": [
    "L = ['Хобби доктора Травена.', 'Хобби доктора Травена.', 'Змеелов.', 'Маленький принц.', \n",
    "'Питоны о Питонах. Автобиография', 'Python для детей.', 'Питон для детей.', 'Кролики и удавы.', \n",
    "'Маленький принц.', 'Удавы и питоны. Уход и содержание.', 'Питон для детей.']\n",
    "B = []\n",
    "for i in L:\n",
    "    if L.count(i) > 1:\n",
    "        B.append(i)\n",
    "\n",
    "        \n",
    "B"
   ]
  },
  {
   "cell_type": "code",
   "execution_count": 37,
   "metadata": {},
   "outputs": [
    {
     "data": {
      "text/plain": [
       "10"
      ]
     },
     "execution_count": 37,
     "metadata": {},
     "output_type": "execute_result"
    }
   ],
   "source": [
    "L1 = [6, 8, 9]\n",
    "L2 = [7, 10, 2, 5]\n",
    "\n",
    "Obamacare = []\n",
    "Obamacare.extend(L1)\n",
    "Obamacare.extend(L2)\n",
    "Obamacare\n",
    "a = sorted(Obamacare, reverse = True)\n",
    "a[0]"
   ]
  },
  {
   "cell_type": "code",
   "execution_count": 40,
   "metadata": {},
   "outputs": [
    {
     "data": {
      "text/plain": [
       "'Ветер надежды держит парус на рассвет , и'"
      ]
     },
     "execution_count": 40,
     "metadata": {},
     "output_type": "execute_result"
    }
   ],
   "source": [
    "x = ('Ветер', 'надежды', 'держит', 'парус', 'на рассвет', ',', 'и')\n",
    "' '.join(x)\n"
   ]
  },
  {
   "cell_type": "code",
   "execution_count": 41,
   "metadata": {},
   "outputs": [
    {
     "data": {
      "text/plain": [
       "('Ветер', 'надежды', 'держит', 'парус', 'на рассвет', ',', 'и')"
      ]
     },
     "execution_count": 41,
     "metadata": {},
     "output_type": "execute_result"
    }
   ],
   "source": [
    "x = 'Ветер', 'надежды', 'держит', 'парус', 'на рассвет', ',', 'и'\n",
    "x"
   ]
  },
  {
   "cell_type": "code",
   "execution_count": 58,
   "metadata": {},
   "outputs": [
    {
     "data": {
      "text/plain": [
       "['black', 'green', 'blue']"
      ]
     },
     "execution_count": 58,
     "metadata": {},
     "output_type": "execute_result"
    }
   ],
   "source": [
    "L = ['white', 'red', 'black', 'green', 'yellow', 'blue']\n",
    "cols = {'white': 'black', 'red' : 'green', 'yellow': 'blue'}\n",
    "\n",
    "Negativekeys = list(cols.keys())\n",
    "Negativevalues = list(cols.values())\n",
    "Negativekeys\n",
    "Negativevalues\n",
    "\n",
    "    "
   ]
  },
  {
   "cell_type": "code",
   "execution_count": 65,
   "metadata": {},
   "outputs": [
    {
     "data": {
      "text/plain": [
       "['black',\n",
       " 'white',\n",
       " 'red',\n",
       " 'yellow',\n",
       " 'green',\n",
       " 'white',\n",
       " 'red',\n",
       " 'yellow',\n",
       " 'white',\n",
       " 'red',\n",
       " 'blue',\n",
       " 'yellow']"
      ]
     },
     "execution_count": 65,
     "metadata": {},
     "output_type": "execute_result"
    }
   ],
   "source": [
    "L = ['white', 'red', 'black', 'green', 'yellow', 'blue']\n",
    "x = []\n",
    "for keys in Negativekeys: \n",
    "    for i in L:\n",
    "        if i == keys:\n",
    "            x.append(Negativevalues[Negativekeys.index(keys)])\n",
    "            continue\n",
    "        elif i != keys:\n",
    "            for values in Negativevalues:\n",
    "                if i == values:\n",
    "                    x.append(Negativekeys[Negativevalues.index(values)])\n",
    "\n",
    "\n",
    "x"
   ]
  },
  {
   "cell_type": "code",
   "execution_count": 68,
   "metadata": {},
   "outputs": [
    {
     "data": {
      "text/plain": [
       "['black', 'green', 'white', 'red', 'blue', 'yellow']"
      ]
     },
     "execution_count": 68,
     "metadata": {},
     "output_type": "execute_result"
    }
   ],
   "source": [
    "L = ['white', 'red', 'black', 'green', 'yellow', 'blue']\n",
    "x = []\n",
    "for i in L: \n",
    "    for keys, values in cols.items():\n",
    "        if i == keys:\n",
    "            x.append(Negativevalues[Negativekeys.index(keys)])\n",
    "        elif i == values:\n",
    "            x.append(Negativekeys[Negativevalues.index(values)])\n",
    "                    \n",
    "                    \n",
    "x"
   ]
  },
  {
   "cell_type": "code",
   "execution_count": null,
   "metadata": {},
   "outputs": [],
   "source": [
    "for k, v in x.items():\n",
    "    print(k, v)"
   ]
  },
  {
   "cell_type": "code",
   "execution_count": null,
   "metadata": {},
   "outputs": [],
   "source": [
    " (\"My mind is clearer now. At last all too well I can see where we all soon will be. If you strip away the myth from the man, You will see where we all soon will be.\", \n",
    "     ['my', 'mind', 'is', 'clearer', 'now', 'at', 'last', 'all', 'too', 'well', 'i', 'can', 'see', 'where', 'we', 'all', 'soon', 'will', 'be', 'if', 'you', 'strip', 'away', 'the', 'myth', 'from', 'the', 'man', 'you', 'will', 'see', 'where', 'we', 'all', 'soon', 'will', 'be']),\n",
    "    (\"I asked him to say what had happened,How it all began I asked again - he never said a word.As if he hadn't heard.\",\n",
    "     ['i', 'asked', 'him', 'to', 'say', 'what', 'had', 'happenedhow', 'it', 'all', 'began', 'i', 'asked', 'again', 'he', 'never', 'said', 'a', 'wordas', 'if', 'he', 'hadnt', 'heard']),\n",
    "    (\"There's too many of you...Don't push me.There's too little of me...Don't crowd me.Heal yourselves!\",\n",
    "    ['theres', 'too', 'many', 'of', 'youdont', 'push', 'metheres', 'too', 'little', 'of', 'medont', 'crowd', 'meheal', 'yourselves']),\n",
    "    (\"   Просто   много лишних  пробелов  \", ['просто', 'много', 'лишних', 'пробелов']),\n",
    "    (\"Есть множество! правил? которые нужно? выучить; но я их держу в голове.\",\n",
    "    ['есть', 'множество', 'правил', 'которые', 'нужно', 'выучить', 'но', 'я', 'их', 'держу', 'в', 'голове'])]"
   ]
  },
  {
   "cell_type": "code",
   "execution_count": 71,
   "metadata": {},
   "outputs": [
    {
     "data": {
      "text/plain": [
       "['my',\n",
       " 'mind',\n",
       " 'is',\n",
       " 'clearer',\n",
       " 'now',\n",
       " 'at',\n",
       " 'last',\n",
       " 'all',\n",
       " 'too',\n",
       " 'well',\n",
       " 'i',\n",
       " 'can',\n",
       " 'see',\n",
       " 'where',\n",
       " 'we',\n",
       " 'all',\n",
       " 'soon',\n",
       " 'will',\n",
       " 'be',\n",
       " 'if',\n",
       " 'you',\n",
       " 'strip',\n",
       " 'away',\n",
       " 'the',\n",
       " 'myth',\n",
       " 'from',\n",
       " 'the',\n",
       " 'man',\n",
       " 'you',\n",
       " 'will',\n",
       " 'see',\n",
       " 'where',\n",
       " 'we',\n",
       " 'all',\n",
       " 'soon',\n",
       " 'will',\n",
       " 'be']"
      ]
     },
     "execution_count": 71,
     "metadata": {},
     "output_type": "execute_result"
    }
   ],
   "source": [
    "x = \"My mind is clearer now. At last all too well I can see where we all soon will be. If you strip away the myth from the man, You will see where we all soon will be.\"\n",
    "y = list(x.lower().replace('.','').replace(',','').replace('-'').replace('  ',' ').split())\n",
    "y"
   ]
  },
  {
   "cell_type": "code",
   "execution_count": null,
   "metadata": {},
   "outputs": [],
   "source": []
  }
 ],
 "metadata": {
  "kernelspec": {
   "display_name": "Python 3",
   "language": "python",
   "name": "python3"
  },
  "language_info": {
   "codemirror_mode": {
    "name": "ipython",
    "version": 3
   },
   "file_extension": ".py",
   "mimetype": "text/x-python",
   "name": "python",
   "nbconvert_exporter": "python",
   "pygments_lexer": "ipython3",
   "version": "3.8.3"
  }
 },
 "nbformat": 4,
 "nbformat_minor": 4
}
