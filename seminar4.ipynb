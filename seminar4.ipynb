{
 "cells": [
  {
   "cell_type": "markdown",
   "metadata": {},
   "source": [
    "# Основы программирования в Python\n",
    "\n",
    "*Алла Тамбовцева, Светлана Жучкова, НИУ ВШЭ*\n",
    "\n",
    "## Семинар 4"
   ]
  },
  {
   "cell_type": "markdown",
   "metadata": {},
   "source": [
    "### Задача 1\n",
    "\n",
    "Дан словарь с названиями разных рептилий:"
   ]
  },
  {
   "cell_type": "code",
   "execution_count": 1,
   "metadata": {},
   "outputs": [],
   "source": [
    "rept = {\"python\" : \"питон\", \"anaconda\" : \"анаконда\", \"tortoize\" : \"черепаха\" }"
   ]
  },
  {
   "cell_type": "markdown",
   "metadata": {},
   "source": [
    "* Добавьте в словарь пару \"snake\" - \" змея\".\n",
    "* Исправьте ключ \"tortoize\" на правильный \"tortoise\".\n",
    "* Выведите на экран сообщения вида\n",
    "\n",
    "    питон по-английски будет python;\n",
    "\n",
    "для всех слов в словаре (сообщение для каждого слова ‒ с новой строчки)."
   ]
  },
  {
   "cell_type": "code",
   "execution_count": 67,
   "metadata": {},
   "outputs": [
    {
     "data": {
      "text/plain": [
       "{'python': 'питон',\n",
       " 'anaconda': 'анаконда',\n",
       " 'tortoize': 'черепаха',\n",
       " 'snake': 'змея'}"
      ]
     },
     "execution_count": 67,
     "metadata": {},
     "output_type": "execute_result"
    }
   ],
   "source": [
    "rept = {\"python\" : \"питон\", \"anaconda\" : \"анаконда\", \"tortoize\" : \"черепаха\" }\n",
    "rept['snake'] = 'змея'\n",
    "\n",
    "rept"
   ]
  },
  {
   "cell_type": "code",
   "execution_count": 21,
   "metadata": {},
   "outputs": [
    {
     "data": {
      "text/plain": [
       "{'python': 'питон',\n",
       " 'anaconda': 'анаконда',\n",
       " 'tortoise': 'черепаха',\n",
       " 'snake': 'змея'}"
      ]
     },
     "execution_count": 21,
     "metadata": {},
     "output_type": "execute_result"
    }
   ],
   "source": [
    "rept = {\"python\" : \"питон\", \"anaconda\" : \"анаконда\", \"tortoize\" : \"черепаха\" }\n",
    "rept['snake'] = 'змея'\n",
    "rept_correct = {}\n",
    "for k in rept:\n",
    "    if k == 'tortoize':\n",
    "        rept_correct['tortoise'] = rept[k]\n",
    "    else:\n",
    "        rept_correct[k] = rept[k]\n",
    "rept_correct"
   ]
  },
  {
   "cell_type": "markdown",
   "metadata": {},
   "source": [
    "### Задача 2\n",
    "\n",
    "Дан список студентов."
   ]
  },
  {
   "cell_type": "code",
   "execution_count": 2,
   "metadata": {},
   "outputs": [],
   "source": [
    "students = [\"Вася\", \"Маша\", \"Петя\", \"Дима\", \"Марина\", \"Люба\", \"Коля\", \"Ваня\"]"
   ]
  },
  {
   "cell_type": "markdown",
   "metadata": {},
   "source": [
    "Оценки студентов за контрольную работу сохранены в словаре *grades*:"
   ]
  },
  {
   "cell_type": "code",
   "execution_count": 3,
   "metadata": {},
   "outputs": [],
   "source": [
    "grades = {\"Вася\" : 4, \"Петя\" : 9, \"Марина\" : 8, \"Люба\" : 4, \"Коля\" : 5, \"Ваня\": 10}"
   ]
  },
  {
   "cell_type": "markdown",
   "metadata": {},
   "source": [
    "* Напишите программу, которая выводит на экран имя студента из списка *students* и его оценку. Если оценки студента из списка *students* нет, то на экран должно выводиться имя студента и сообщение \"Контрольную работу не писал(а)\".\n",
    "\n",
    "* Напишите программу, которая выводит на экран имена студентов, которые получили отличные оценки (8 и выше).\n",
    "\n",
    "* Напишите программу, которая сохраняет имена студентов, получивших хорошие и отличные оценки, в список *good*, а получивших удовлетворительные и плохие оценки ‒ в список *bad*."
   ]
  },
  {
   "cell_type": "code",
   "execution_count": 31,
   "metadata": {},
   "outputs": [
    {
     "data": {
      "text/plain": [
       "{'Вася': 4,\n",
       " 'Маша': 'Контрольную работу не писал(а)',\n",
       " 'Петя': 9,\n",
       " 'Дима': 'Контрольную работу не писал(а)',\n",
       " 'Марина': 8,\n",
       " 'Люба': 4,\n",
       " 'Коля': 5,\n",
       " 'Ваня': 10}"
      ]
     },
     "execution_count": 31,
     "metadata": {},
     "output_type": "execute_result"
    }
   ],
   "source": [
    "students = [\"Вася\", \"Маша\", \"Петя\", \"Дима\", \"Марина\", \"Люба\", \"Коля\", \"Ваня\"]\n",
    "grades = {\"Вася\" : 4, \"Петя\" : 9, \"Марина\" : 8, \"Люба\" : 4, \"Коля\" : 5, \"Ваня\": 10}\n",
    "students_grades = [4, 'Контрольную работу не писал(а)', 9, 'Контрольную работу не писал(а)', 8, 4, 5, 10]\n",
    "\n",
    "\n",
    "gradebook = {}\n",
    "for i in range(0, len(students), 1):\n",
    "    gradebook[students[i]] = students_grades[i]\n",
    "gradebook  "
   ]
  },
  {
   "cell_type": "code",
   "execution_count": 45,
   "metadata": {},
   "outputs": [
    {
     "ename": "KeyError",
     "evalue": "1",
     "output_type": "error",
     "traceback": [
      "\u001b[1;31m---------------------------------------------------------------------------\u001b[0m",
      "\u001b[1;31mKeyError\u001b[0m                                  Traceback (most recent call last)",
      "\u001b[1;32m<ipython-input-45-2598e912db6e>\u001b[0m in \u001b[0;36m<module>\u001b[1;34m\u001b[0m\n\u001b[0;32m      1\u001b[0m \u001b[0mstudents\u001b[0m \u001b[1;33m=\u001b[0m \u001b[1;33m[\u001b[0m\u001b[1;34m\"Вася\"\u001b[0m\u001b[1;33m,\u001b[0m \u001b[1;34m\"Маша\"\u001b[0m\u001b[1;33m,\u001b[0m \u001b[1;34m\"Петя\"\u001b[0m\u001b[1;33m,\u001b[0m \u001b[1;34m\"Дима\"\u001b[0m\u001b[1;33m,\u001b[0m \u001b[1;34m\"Марина\"\u001b[0m\u001b[1;33m,\u001b[0m \u001b[1;34m\"Люба\"\u001b[0m\u001b[1;33m,\u001b[0m \u001b[1;34m\"Коля\"\u001b[0m\u001b[1;33m,\u001b[0m \u001b[1;34m\"Ваня\"\u001b[0m\u001b[1;33m]\u001b[0m\u001b[1;33m\u001b[0m\u001b[1;33m\u001b[0m\u001b[0m\n\u001b[0;32m      2\u001b[0m \u001b[0mgrades\u001b[0m \u001b[1;33m=\u001b[0m \u001b[1;33m{\u001b[0m\u001b[1;34m\"Вася\"\u001b[0m \u001b[1;33m:\u001b[0m \u001b[1;36m4\u001b[0m\u001b[1;33m,\u001b[0m \u001b[1;34m\"Петя\"\u001b[0m \u001b[1;33m:\u001b[0m \u001b[1;36m9\u001b[0m\u001b[1;33m,\u001b[0m \u001b[1;34m\"Марина\"\u001b[0m \u001b[1;33m:\u001b[0m \u001b[1;36m8\u001b[0m\u001b[1;33m,\u001b[0m \u001b[1;34m\"Люба\"\u001b[0m \u001b[1;33m:\u001b[0m \u001b[1;36m4\u001b[0m\u001b[1;33m,\u001b[0m \u001b[1;34m\"Коля\"\u001b[0m \u001b[1;33m:\u001b[0m \u001b[1;36m5\u001b[0m\u001b[1;33m,\u001b[0m \u001b[1;34m\"Ваня\"\u001b[0m\u001b[1;33m:\u001b[0m \u001b[1;36m10\u001b[0m\u001b[1;33m}\u001b[0m\u001b[1;33m\u001b[0m\u001b[1;33m\u001b[0m\u001b[0m\n\u001b[1;32m----> 3\u001b[1;33m \u001b[0mgrades\u001b[0m\u001b[1;33m.\u001b[0m\u001b[0mpop\u001b[0m\u001b[1;33m(\u001b[0m\u001b[1;36m1\u001b[0m\u001b[1;33m)\u001b[0m\u001b[1;33m\u001b[0m\u001b[1;33m\u001b[0m\u001b[0m\n\u001b[0m\u001b[0;32m      4\u001b[0m \u001b[0mgrages\u001b[0m\u001b[1;33m\u001b[0m\u001b[1;33m\u001b[0m\u001b[0m\n",
      "\u001b[1;31mKeyError\u001b[0m: 1"
     ]
    }
   ],
   "source": [
    "students = [\"Вася\", \"Маша\", \"Петя\", \"Дима\", \"Марина\", \"Люба\", \"Коля\", \"Ваня\"]\n",
    "grades = {\"Вася\" : 4, \"Петя\" : 9, \"Марина\" : 8, \"Люба\" : 4, \"Коля\" : 5, \"Ваня\": 10}\n",
    "grades.pop(1)\n",
    "grages"
   ]
  },
  {
   "cell_type": "code",
   "execution_count": 47,
   "metadata": {},
   "outputs": [
    {
     "name": "stdout",
     "output_type": "stream",
     "text": [
      "Петя\n",
      "Марина\n",
      "Ваня\n"
     ]
    }
   ],
   "source": [
    "for k, v in gradebook.items():\n",
    "    if v!='Контрольную работу не писал(а)' and int(v) >= int(8):\n",
    "        print(k)\n",
    "\n",
    "        "
   ]
  },
  {
   "cell_type": "code",
   "execution_count": 68,
   "metadata": {},
   "outputs": [
    {
     "name": "stdout",
     "output_type": "stream",
     "text": [
      "['Петя', 'Марина', 'Ваня'] ['Вася', 'Маша', 'Дима', 'Люба', 'Коля']\n"
     ]
    }
   ],
   "source": [
    "students = [\"Вася\", \"Маша\", \"Петя\", \"Дима\", \"Марина\", \"Люба\", \"Коля\", \"Ваня\"]\n",
    "grades = {\"Вася\" : 4, \"Петя\" : 9, \"Марина\" : 8, \"Люба\" : 4, \"Коля\" : 5, \"Ваня\": 10}\n",
    "good = []\n",
    "bad = []\n",
    "\n",
    "for k, v in gradebook.items():\n",
    "    if v != 'Контрольную работу не писал(а)' and int(v) >= 6:\n",
    "        good.append(k)       \n",
    "    else:\n",
    "        bad.append(k)\n",
    "        \n",
    "print (good, bad)"
   ]
  },
  {
   "cell_type": "code",
   "execution_count": null,
   "metadata": {},
   "outputs": [],
   "source": [
    "for k, v in x.items():\n",
    "    print(k, v)\n",
    "    \n",
    "gradebook = {}\n",
    "for i in range(0, len(groups), 1):\n",
    "    gradebook[groups[i]] = grades[i]\n",
    "    \n",
    "rept = {\"python\" : \"питон\", \"anaconda\" : \"анаконда\", \"tortoize\" : \"черепаха\" }\n",
    "rept['snake'] = 'змея'\n",
    "rept_correct = {}\n",
    "for k in rept:\n",
    "    if k == 'tortoize':\n",
    "        rept_correct['tortoise'] = rept[k]\n",
    "    else:\n",
    "        rept_correct[k] = rept[k]\n",
    "rept_correct\n",
    "\n",
    "for k, v in grades.items():\n",
    "    print(k, v)\n",
    "    for elem in students():\n",
    "        if k == grades[k]:\n",
    "            students_1[k] = students[k]"
   ]
  },
  {
   "cell_type": "markdown",
   "metadata": {},
   "source": [
    "### Задача 3\n",
    "\n",
    "В списке *cnt* хранятся названия стран, а в списке *fh* ‒ значения индекса Freedom House  для этих стран. Создайте словарь, используя в качестве ключей названия стран, а в качестве значений ‒  значения индекса."
   ]
  },
  {
   "cell_type": "code",
   "execution_count": 62,
   "metadata": {},
   "outputs": [
    {
     "data": {
      "text/plain": [
       "{'Andorra': 1.0,\n",
       " 'Belarus': 6.0,\n",
       " 'Denmark': 1.0,\n",
       " 'Kenya': 4.0,\n",
       " 'Jamaica': 2.5,\n",
       " 'Romania': 2.0}"
      ]
     },
     "execution_count": 62,
     "metadata": {},
     "output_type": "execute_result"
    }
   ],
   "source": [
    "cnt = [\"Andorra\", \"Belarus\", \"Denmark\", \"Kenya\", \"Jamaica\", \"Romania\"]\n",
    "fh = [1.0, 6.0, 1.0, 4.0, 2.5, 2.0]\n",
    "cnt_fh = {}\n",
    "\n",
    "for i in range(0, len(cnt), 1):\n",
    "    cnt_fh[cnt[i]] = fh[i]\n",
    "cnt_fh "
   ]
  },
  {
   "cell_type": "markdown",
   "metadata": {},
   "source": [
    "### Задача 4\n",
    "\n",
    "Дан список, состоящий из пар чисел:"
   ]
  },
  {
   "cell_type": "code",
   "execution_count": 91,
   "metadata": {},
   "outputs": [
    {
     "data": {
      "text/plain": [
       "{(2, 4): 8, (4, 6): 24, (0, 1): 0, (5, 2): 10, (9, 1): 9, (3, 8): 24}"
      ]
     },
     "execution_count": 91,
     "metadata": {},
     "output_type": "execute_result"
    }
   ],
   "source": [
    "pairs = [(2, 4), (4, 6), (0, 1), (5, 2), (9, 1), (3, 8)]\n",
    "new_k = pairs\n",
    "pairs = dict(list((pairs)))\n",
    "calc = {}\n",
    "new_v = []\n",
    "\n",
    "for k, v in pairs.items():\n",
    "    new_v.append(v*k) \n",
    "\n",
    "for i in range(0, len(pairs), 1):\n",
    "    calc[new_k[i]] = new_v[i]\n",
    "    \n",
    "calc"
   ]
  },
  {
   "cell_type": "markdown",
   "metadata": {},
   "source": [
    "Создайте словарь *calc*, где ключами являются пары чисел, а значениями ‒ их произведение (произведение тоже должно считаться в Python, не в уме)."
   ]
  },
  {
   "cell_type": "markdown",
   "metadata": {},
   "source": [
    "### Задача 5"
   ]
  },
  {
   "cell_type": "markdown",
   "metadata": {},
   "source": [
    "Вам нужно написать программу, которая помогает преподавателю автоматически проверять и оценивать ответ, данный студентом на вопрос со множественным выбором (в тесте). Программа принимает на вход две строки: строку с правильными ответами (`correct`) и строку с ответами, которые дал студент (`student_answer`). Считайте, что возможные варианты ответов закодированы буквами а, б, в, г, д, е, ж, з. Выбранные варианты вводятся в одну строку через запятую и их порядок не важен. Оценка за ответ рассчитывается по формуле:\n",
    "\n",
    "$$grade = \\frac{len(A\\cap B)}{len(A\\cup B)}$$,\n",
    "\n",
    "где A - множество вариантов, выбранных студентом (ещё раз: он может вводить их в любом порядке!),\n",
    "\n",
    "B - множество правильных ответов.\n",
    "\n",
    "Если прочитать по-человечески эту формулу: считаем, сколько правильных вариантов выбрал студент, и делим на (общее количество выбранных вариантов + количество верных вариантов, которые студент не выбрал).\n",
    "\n",
    "В результате программа должна выдавать балл за ответ студента от 0 до 1 в формате `float` с округлением до двух знаков после запятой.\n",
    "\n",
    "Пример входных данных (*студент выбрал 3 варианта из 4 правильных*):\n",
    "```python\n",
    "correct = 'а б в г'\n",
    "student_answer = 'б а в'\n",
    "```\n",
    "\n",
    "Пример выходных данных:\n",
    "```python\n",
    "0.75\n",
    "```\n",
    "<hr>\n",
    "\n",
    "Пример входных данных (*студент выбрал 3 варианта из 4 правильных и 1 неправильный*):\n",
    "```python\n",
    "correct = 'а б в г'\n",
    "student_answer = 'a в б д'\n",
    "```\n",
    "\n",
    "Пример выходных данных:\n",
    "```python\n",
    "0.6\n",
    "```\n",
    "<hr>\n",
    "\n",
    "Пример входных данных (*студент выбрал 3 НЕправильных ответа и НЕ выбрал 4 правильных*):\n",
    "\n",
    "```python\n",
    "correct = 'а б в г'\n",
    "student_answer = 'ж д е'\n",
    "```\n",
    "\n",
    "Пример выходных данных:\n",
    "```python\n",
    "0\n",
    "```"
   ]
  },
  {
   "cell_type": "code",
   "execution_count": null,
   "metadata": {},
   "outputs": [],
   "source": []
  }
 ],
 "metadata": {
  "kernelspec": {
   "display_name": "Python 3",
   "language": "python",
   "name": "python3"
  },
  "language_info": {
   "codemirror_mode": {
    "name": "ipython",
    "version": 3
   },
   "file_extension": ".py",
   "mimetype": "text/x-python",
   "name": "python",
   "nbconvert_exporter": "python",
   "pygments_lexer": "ipython3",
   "version": "3.8.3"
  }
 },
 "nbformat": 4,
 "nbformat_minor": 2
}
